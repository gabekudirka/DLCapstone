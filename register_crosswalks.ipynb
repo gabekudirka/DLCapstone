{
 "cells": [
  {
   "cell_type": "code",
   "execution_count": 15,
   "metadata": {},
   "outputs": [],
   "source": [
    "import pandas as pd\n",
    "import numpy as np\n",
    "import torch\n",
    "from torchvision.io import read_image\n",
    "from scipy import spatial\n",
    "from pyproj import CRS, Transformer\n",
    "from PIL import Image\n",
    "import matplotlib.pyplot as plt\n",
    "import matplotlib.patches as patches\n",
    "import math\n",
    "from sklearn.cluster import DBSCAN\n",
    "import warnings\n",
    "warnings.filterwarnings('ignore')"
   ]
  },
  {
   "cell_type": "code",
   "execution_count": 33,
   "metadata": {},
   "outputs": [
    {
     "name": "stdout",
     "output_type": "stream",
     "text": [
      "model loaded\n"
     ]
    }
   ],
   "source": [
    "device = \"cuda\" if torch.cuda.is_available() else \"cpu\"\n",
    "model = torch.load('./models/crosswalk_MRCNN1_crosswalk_entire.pth')\n",
    "model.eval()\n",
    "print('model loaded')"
   ]
  },
  {
   "cell_type": "code",
   "execution_count": 38,
   "metadata": {},
   "outputs": [],
   "source": [
    "df_all = pd.read_csv('./data/img_metadata/annotated_region_intersections.csv')\n",
    "dims = 60\n",
    "overlap = 3"
   ]
  },
  {
   "cell_type": "code",
   "execution_count": 36,
   "metadata": {},
   "outputs": [],
   "source": [
    "class Crosswalk():\n",
    "    def __init__(self, box, score, img_id, img_bbox, img_dims):\n",
    "        self.score = score\n",
    "        self.img_id = img_id\n",
    "#         self.boxes = [[(box[0], box[1]), (box[0] + box[2], box[1] + box[3])] for box in boxes]\n",
    "#         self.boxes_proj = [[point_to_coord(box[0], img_dims, bbox), point_to_coord(box[1], img_dims, bbox)] for box in self.boxes]\n",
    "        self.box = [(box[0], box[1]), (box[2], box[3])]\n",
    "        self.box_coords = [point_to_coord(self.box[0], img_dims, img_bbox), point_to_coord(self.box[1], img_dims, img_bbox)]\n",
    "        self.loc_26985 = get_center_coord(self.box_coords)\n",
    "        self.loc_latlng = project_to_latlng(self.loc_26985)\n",
    "        \n",
    "def get_center_coord(bbox):\n",
    "    xmin, ymax = bbox[0]\n",
    "    xmax, ymin = bbox[1]\n",
    "    return ((xmin + xmax) / 2, (ymin + ymax) / 2)\n",
    "            \n",
    "#Map a point in an image from the predicted bounding box to an actual coordinate\n",
    "def point_to_coord(pt, img_dims, bbox):\n",
    "    x, y = pt\n",
    "    H, W = img_dims\n",
    "    xmin, ymin, xmax, ymax = bbox\n",
    "    x_len = xmax - xmin\n",
    "    y_len = ymax - ymin\n",
    "    x_ratio = x_len / W\n",
    "    y_ratio = y_len / H\n",
    "    x = (x * x_ratio) + xmin\n",
    "    y = ymax - (y * y_ratio)\n",
    "    \n",
    "    return (x, y)\n",
    "\n",
    "def project_to_latlng(pt):\n",
    "    crs_4326 = CRS('epsg:4326')\n",
    "    crs_proj = CRS('epsg:26985')\n",
    "    transformer = Transformer.from_crs(crs_proj, crs_4326)\n",
    "    pt_proj = transformer.transform(pt[0], pt[1])\n",
    "    \n",
    "    return pt_proj\n",
    "        \n",
    "class CrosswalkImage():\n",
    "    def __init__(self, idx, anns, row, img_dims):\n",
    "        self.filename = row['filename']\n",
    "        self.id = idx\n",
    "        self.img_dims = (img_dims[1], img_dims[2])\n",
    "        self.bbox = (row['xmin'], row['ymin'], row['xmax'], row['ymax'])\n",
    "        self.img_coords = (row['lat'], row['lng'])\n",
    "        \n",
    "        self.crosswalks = []\n",
    "        for box, score in zip(anns['boxes'], anns['scores']):\n",
    "            if score > 0.75:\n",
    "                self.crosswalks.append(Crosswalk(box.cpu().numpy(), score.cpu().numpy(), idx, self.bbox, self.img_dims))"
   ]
  },
  {
   "cell_type": "code",
   "execution_count": 37,
   "metadata": {},
   "outputs": [
    {
     "name": "stdout",
     "output_type": "stream",
     "text": [
      "1.12.1+cu113\n"
     ]
    }
   ],
   "source": [
    "import torch\n",
    "print(torch.__version__)"
   ]
  },
  {
   "cell_type": "code",
   "execution_count": null,
   "metadata": {},
   "outputs": [],
   "source": [
    "#Run object detection on collected images\n",
    "base_path = './data/aerial_images/annotated_region_intersections/'\n",
    "\n",
    "img_tensors = [read_image(base_path + filename).to(device=device, dtype=torch.float32) / 255 for filename in df_all['filename']]\n",
    "with torch.no_grad():\n",
    "    anns = [model([img_tensor])[0] for img_tensor in img_tensors]"
   ]
  },
  {
   "cell_type": "code",
   "execution_count": 16,
   "metadata": {},
   "outputs": [],
   "source": [
    "df_all['crosswalk_detected'] = 0\n",
    "df_all['crosswalk_obj_idx'] = ''\n",
    "#Process each detected crosswalk, converting predicted bounding boxes to real coordinates\n",
    "crosswalk_objs = []\n",
    "for i, ann in enumerate(anns):\n",
    "    if len(ann['labels']) > 0:\n",
    "        df_all['crosswalk_detected'].iloc[i] = 1\n",
    "        df_all['crosswalk_obj_idx'].iloc[i] = len(crosswalk_objs)\n",
    "        crosswalk_objs.append(CrosswalkImage(i, ann, df_all.iloc[i], img_tensors[0].shape))"
   ]
  },
  {
   "cell_type": "code",
   "execution_count": 18,
   "metadata": {},
   "outputs": [],
   "source": [
    "#Run object detection on collected images\n",
    "base_path = './data/aerial_images/399697_135518_401430_136935/'\n",
    "# filename = crosswalk_objs[intersection_idxs[0]].filename\n",
    "filename = 'image_6.png'\n",
    "\n",
    "img_tensor = read_image(base_path + filename).to(device=device, dtype=torch.float32) / 255\n",
    "with torch.no_grad():\n",
    "    ann = model([img_tensor])[0]\n",
    "\n",
    "im = Image.open(base_path + filename)\n",
    "fig, ax = plt.subplots()\n",
    "ax.imshow(im)\n",
    "for box in ann['boxes']:\n",
    "    H = box[3] - box[1]\n",
    "    W = box[2] - box[0]\n",
    "    rect = patches.Rectangle((box[0], box[1]), W, H, linewidth=1, edgecolor='r', facecolor='none')\n",
    "    ax.add_patch(rect)\n",
    "plt.show()"
   ]
  },
  {
   "cell_type": "code",
   "execution_count": 10,
   "metadata": {},
   "outputs": [],
   "source": [
    "def do_overlap(box1, box2):\n",
    "    l1 = box1[0]\n",
    "    r1 = box1[1]\n",
    "    l2 = box2[0]\n",
    "    r2 = box2[1]\n",
    "    \n",
    "    if l1[0] == r1[0] or l1[1] == r1[1] or r2[0] == l2[0] or l2[1] == r2[1]:\n",
    "        return False\n",
    "     \n",
    "    # If one rectangle is on left side of other\n",
    "    if l1[0] > r2[0] or l2[0] > r1[0]:\n",
    "        return False\n",
    " \n",
    "    # If one rectangle is above other\n",
    "    if r1[1] > l2[1] or r2[1] > l1[1]:\n",
    "        return False\n",
    " \n",
    "    return True\n",
    "\n",
    "def bbox_area(box):\n",
    "    W = box[1][0] - box[0][0]\n",
    "    H = box[0][1] - box[1][1]    \n",
    "    return H * W"
   ]
  },
  {
   "cell_type": "code",
   "execution_count": 11,
   "metadata": {},
   "outputs": [],
   "source": [
    "df_crosswalks = df_all[df_all['crosswalk_detected'] == 1]\n",
    "# img_coords = list(zip((df_crosswalks['xmax'] + df_crosswalks['xmin']) / 2, (df_crosswalks['ymax'] + df_crosswalks['ymin']) / 2))\n",
    "img_coords = list(zip(df_crosswalks['center_x'], df_crosswalks['center_y']))"
   ]
  },
  {
   "cell_type": "code",
   "execution_count": 12,
   "metadata": {},
   "outputs": [],
   "source": [
    "kd_tree = spatial.KDTree(img_coords)\n",
    "clusters_raw = kd_tree.query_ball_point(img_coords, dims)\n",
    "clusters_set = {tuple(cluster) for cluster in clusters_raw}"
   ]
  },
  {
   "cell_type": "code",
   "execution_count": 13,
   "metadata": {},
   "outputs": [],
   "source": [
    "intersection_idxs = kd_tree.query_ball_point([(400637.958184, 136191.700599), (401637.958184, 135191.700599)], 60)"
   ]
  },
  {
   "cell_type": "code",
   "execution_count": 16,
   "metadata": {},
   "outputs": [
    {
     "data": {
      "text/plain": [
       "646"
      ]
     },
     "execution_count": 16,
     "metadata": {},
     "output_type": "execute_result"
    }
   ],
   "source": [
    "all_crosswalks_overlap = []\n",
    "for crosswalk_obj in crosswalk_objs:\n",
    "    all_crosswalks_overlap.extend(crosswalk_obj.crosswalks)\n",
    "len(all_crosswalks_overlap)"
   ]
  },
  {
   "cell_type": "code",
   "execution_count": 18,
   "metadata": {},
   "outputs": [],
   "source": [
    "#Remove detected crosswalks that overlap across images\n",
    "#If the bounding box of two crosswalks on the real world map overlap, keep the box with the larger area\n",
    "for cluster in clusters_set:\n",
    "    if len(cluster) <= 1:\n",
    "        continue\n",
    "    target = crosswalk_objs[cluster[0]]\n",
    "    target_crosswalks = [crosswalk for crosswalk in target.crosswalks]\n",
    "    for i in range(1, len(cluster)):\n",
    "        comp = crosswalk_objs[cluster[i]]\n",
    "        comp_crosswalks = [crosswalk for crosswalk in comp.crosswalks]\n",
    "        for target_crosswalk in target_crosswalks:\n",
    "            for comp_crosswalk in comp_crosswalks:\n",
    "                if do_overlap(target_crosswalk.box_coords, comp_crosswalk.box_coords):\n",
    "                    if bbox_area(target_crosswalk.box_coords) > bbox_area(comp_crosswalk.box_coords):\n",
    "                        if comp_crosswalk in comp.crosswalks:\n",
    "                            comp.crosswalks.remove(comp_crosswalk)\n",
    "                    else:\n",
    "                        if target_crosswalk in target.crosswalks:\n",
    "                            target.crosswalks.remove(target_crosswalk)\n"
   ]
  },
  {
   "cell_type": "code",
   "execution_count": 19,
   "metadata": {},
   "outputs": [
    {
     "data": {
      "text/plain": [
       "523"
      ]
     },
     "execution_count": 19,
     "metadata": {},
     "output_type": "execute_result"
    }
   ],
   "source": [
    "#Accumulate all remaining crosswalk objects\n",
    "all_crosswalks = []\n",
    "for crosswalk_obj in crosswalk_objs:\n",
    "    all_crosswalks.extend(crosswalk_obj.crosswalks)\n",
    "len(all_crosswalks)"
   ]
  },
  {
   "cell_type": "code",
   "execution_count": 20,
   "metadata": {},
   "outputs": [],
   "source": [
    "for i, crosswalk in enumerate(all_crosswalks):\n",
    "    crosswalk.id = i"
   ]
  },
  {
   "cell_type": "code",
   "execution_count": 21,
   "metadata": {},
   "outputs": [],
   "source": [
    "with open ('crosswalk_coords3.txt', 'w') as f:\n",
    "    for coords in all_crosswalks:\n",
    "        f.write(str(coords.loc_latlng[0]) + ',' + str(coords.loc_latlng[1]) + ',')\n",
    "        f.write('\\n')"
   ]
  },
  {
   "cell_type": "code",
   "execution_count": 22,
   "metadata": {},
   "outputs": [],
   "source": [
    "#Cluster croswwalks into their respective 'families'\n",
    "crosswalk_centers = np.asarray([crosswalk.loc_26985 for crosswalk in all_crosswalks])"
   ]
  },
  {
   "cell_type": "code",
   "execution_count": 53,
   "metadata": {},
   "outputs": [],
   "source": [
    "clustering = DBSCAN(eps=30, min_samples=1).fit(crosswalk_centers)"
   ]
  },
  {
   "cell_type": "code",
   "execution_count": 10,
   "metadata": {},
   "outputs": [],
   "source": [
    "print(all_crosswalks[-1].loc_26985)"
   ]
  },
  {
   "cell_type": "code",
   "execution_count": 54,
   "metadata": {},
   "outputs": [],
   "source": [
    "class CrosswalkCluster():\n",
    "    def __init__(self, id):\n",
    "        self.id = id\n",
    "        self.median_grade = 0\n",
    "        self.mean_grade = 0\n",
    "        self.observed_grades = []\n",
    "        self.crosswalks = []\n",
    "\n",
    "    def compute_center_coord(self):\n",
    "        x_sum = 0\n",
    "        y_sum = 0\n",
    "        for crosswalk in self.crosswalks:\n",
    "            x_sum += crosswalk.loc_26985[0]\n",
    "            y_sum += crosswalk.loc_26985[1]\n",
    "        self.center = (x_sum / len(self.crosswalks), y_sum / len(self.crosswalks))\n",
    "        self.center_latlng = project_to_latlng(self.center)\n",
    "            "
   ]
  },
  {
   "cell_type": "code",
   "execution_count": 55,
   "metadata": {},
   "outputs": [],
   "source": [
    "crosswalk_clusters = []\n",
    "for label in range(np.max(clustering.labels_)+1):\n",
    "    crosswalk_clusters.append(CrosswalkCluster(label))"
   ]
  },
  {
   "cell_type": "code",
   "execution_count": 56,
   "metadata": {},
   "outputs": [],
   "source": [
    "for i, cluster_label in enumerate(clustering.labels_):\n",
    "    crosswalk_cluster = crosswalk_clusters[cluster_label]\n",
    "    crosswalk_cluster.crosswalks.append(all_crosswalks[i])\n",
    "\n",
    "for crosswalk_cluster in crosswalk_clusters:\n",
    "    crosswalk_cluster.compute_center_coord()"
   ]
  },
  {
   "cell_type": "code",
   "execution_count": 57,
   "metadata": {},
   "outputs": [],
   "source": [
    "with open ('cluster_coords.txt', 'w') as f:\n",
    "    for crosswalk_cluster in crosswalk_clusters:\n",
    "        f.write(str(crosswalk_cluster.center_latlng[0]) + ',' + str(crosswalk_cluster.center_latlng[1]) + ',red,square,\"cluster\",')\n",
    "        f.write('\\n')"
   ]
  },
  {
   "cell_type": "code",
   "execution_count": 58,
   "metadata": {},
   "outputs": [],
   "source": [
    "cluster_coords = [cluster.center_latlng for cluster in crosswalk_clusters]\n",
    "kd_tree_cluster = spatial.KDTree(cluster_coords)\n",
    "res = kd_tree_cluster.query((38.892162418299506, -76.9883561760187), 3)\n",
    "# clusters_set_ = {tuple(cluster) for cluster in clusters_raw}"
   ]
  },
  {
   "cell_type": "code",
   "execution_count": 3,
   "metadata": {},
   "outputs": [],
   "source": [
    "res"
   ]
  },
  {
   "cell_type": "code",
   "execution_count": 4,
   "metadata": {},
   "outputs": [],
   "source": [
    "crosswalk_clusters"
   ]
  },
  {
   "cell_type": "code",
   "execution_count": 1,
   "metadata": {},
   "outputs": [],
   "source": [
    "crosswalk_cluster_json = [crosswalk_cluster.__dict__ for crosswalk_cluster in crosswalk_clusters]\n",
    "crosswalk_cluster_json = {'clusters': crosswalk_cluster_json}\n",
    "\n",
    "crosswalk_json = [crosswalk.__dict__ for crosswalk in all_crosswalks]\n",
    "crosswalk_json = {'clusters': crosswalk_cluster_json}"
   ]
  }
 ],
 "metadata": {
  "interpreter": {
   "hash": "63fd5069d213b44bf678585dea6b12cceca9941eaf7f819626cde1f2670de90d"
  },
  "kernelspec": {
   "display_name": "pytorch1.12.1",
   "language": "python",
   "name": "pytorch1.12.1"
  },
  "language_info": {
   "codemirror_mode": {
    "name": "ipython",
    "version": 3
   },
   "file_extension": ".py",
   "mimetype": "text/x-python",
   "name": "python",
   "nbconvert_exporter": "python",
   "pygments_lexer": "ipython3",
   "version": "3.10.6"
  }
 },
 "nbformat": 4,
 "nbformat_minor": 1
}
