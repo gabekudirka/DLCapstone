{
 "cells": [
  {
   "cell_type": "code",
   "execution_count": 1,
   "source": [
    "import requests\r\n",
    "import shutil\r\n",
    "import json\r\n",
    "from pyproj import CRS, Transformer\r\n",
    "import math\r\n",
    "import numpy as np\r\n",
    "import csv\r\n",
    "import pandas as pd\r\n",
    "from scipy import spatial"
   ],
   "outputs": [],
   "metadata": {}
  },
  {
   "cell_type": "code",
   "execution_count": 2,
   "source": [
    "class RoadSegment():\r\n",
    "    def __init__(\r\n",
    "            self, \r\n",
    "            route_id,\r\n",
    "            geometry):\r\n",
    "        self.route_id = route_id\r\n",
    "        self.num_pts = len(geometry)\r\n",
    "        \r\n",
    "        self.pts = [(coords[1], coords[0]) for coords in geometry]\r\n",
    "\r\n",
    "        #Project the points from road data onto the same projection as aerial imagery\r\n",
    "        crs_4326 = CRS('epsg:4326')\r\n",
    "        crs_proj = CRS('epsg:26985')\r\n",
    "        transformer = Transformer.from_crs(crs_4326, crs_proj)\r\n",
    "        pts_proj = transformer.itransform(self.pts)\r\n",
    "        self.pts_proj = [pt for pt in pts_proj]\r\n",
    "        \r\n",
    "        #Calculate the distance between each section in the segment\r\n",
    "        self.sub_distances = []\r\n",
    "        for i, coords in enumerate(self.pts_proj):\r\n",
    "            if i == len(self.pts_proj) - 1:\r\n",
    "                break\r\n",
    "            x1, y1 = coords\r\n",
    "            x2, y2 = self.pts_proj[i+1]\r\n",
    "            distance = math.sqrt((x2 - x1)**2 + (y2 - y1)**2)\r\n",
    "            self.sub_distances.append(distance)\r\n",
    "        self.total_distance = sum(self.sub_distances)\r\n",
    "    "
   ],
   "outputs": [],
   "metadata": {}
  },
  {
   "cell_type": "code",
   "execution_count": 3,
   "source": [
    "with open('./data/roadways/Roadway_Block.geojson') as f:\r\n",
    "    dc_roadway_data = json.load(f)"
   ],
   "outputs": [],
   "metadata": {}
  },
  {
   "cell_type": "code",
   "execution_count": 4,
   "source": [
    "dc_road_segments = []\r\n",
    "for segment in dc_roadway_data['features']:\r\n",
    "    if segment['geometry']['type'] == 'MultiLineString':\r\n",
    "        for LineString in segment['geometry']['coordinates']:\r\n",
    "            segment_obj = RoadSegment(\r\n",
    "                segment['properties']['ROUTEID'],\r\n",
    "                LineString\r\n",
    "            )\r\n",
    "            dc_road_segments.append(segment_obj)\r\n",
    "    else:\r\n",
    "        segment_obj = RoadSegment(\r\n",
    "                    segment['properties']['ROUTEID'],\r\n",
    "                    segment['geometry']['coordinates']\r\n",
    "        )\r\n",
    "        dc_road_segments.append(segment_obj)"
   ],
   "outputs": [],
   "metadata": {}
  },
  {
   "cell_type": "code",
   "execution_count": 5,
   "source": [
    "#find a point some distance between p1 and p2\r\n",
    "def interp_pts(p1, p2, dist):\r\n",
    "    x1, y1 = p1\r\n",
    "    x2, y2 = p2\r\n",
    "    total_dist = math.sqrt((x2 - x1)**2 + (y2 - y1)**2)\r\n",
    "    x3 = x1 + (dist / total_dist) * (x2 - x1)\r\n",
    "    y3 = y1 + (dist / total_dist) * (y2 - y1)\r\n",
    "\r\n",
    "    return x3, y3"
   ],
   "outputs": [],
   "metadata": {}
  },
  {
   "cell_type": "code",
   "execution_count": 6,
   "source": [
    "def collect_img_origins(segment, img_dim, overlap):\r\n",
    "    img_origins = [segment.pts_proj[0], segment.pts_proj[-1]]\r\n",
    "    #automatically want images of both ends of segment subtract image dim to account for this\r\n",
    "    #divide by the dimension of an image minus overlap to determine number of images to take of segment\r\n",
    "    num_imgs = math.ceil((segment.total_distance - img_dim + (overlap * 2)) / (img_dim - (overlap * 2)))\r\n",
    "    if num_imgs == 0:\r\n",
    "        return img_origins\r\n",
    "\r\n",
    "    #Since we're rounding up, adjust the increment to evenly space out the images\r\n",
    "    increment = segment.total_distance / (num_imgs + 1)\r\n",
    "    #Find the distance from the start that each image should be taken at\r\n",
    "    img_distances = [(i+1) * increment for i in range(0, num_imgs)]    \r\n",
    "    #Find the section that each image should be centered around\r\n",
    "    sections = []\r\n",
    "    section_idx = 0\r\n",
    "    section_distance = segment.sub_distances[section_idx]\r\n",
    "    for distance in img_distances:\r\n",
    "        while distance > section_distance:\r\n",
    "            section_idx += 1\r\n",
    "            section_distance += segment.sub_distances[section_idx]\r\n",
    "        sections.append((distance, section_idx))\r\n",
    "    dist_accumulator = 0\r\n",
    "    accumulated_dists = [0]\r\n",
    "    for dist in segment.sub_distances:\r\n",
    "        dist_accumulator += dist\r\n",
    "        accumulated_dists.append(dist_accumulator)\r\n",
    "    #Find the center point that each image should be taken around\r\n",
    "    for distance, section_idx in sections:\r\n",
    "        p1 = segment.pts_proj[section_idx]\r\n",
    "        p2 = segment.pts_proj[section_idx + 1]\r\n",
    "        dist = distance - accumulated_dists[section_idx]\r\n",
    "        img_pt = interp_pts(p1, p2, dist)\r\n",
    "        img_origins.append(img_pt)\r\n",
    "\r\n",
    "    return img_origins"
   ],
   "outputs": [],
   "metadata": {}
  },
  {
   "cell_type": "code",
   "execution_count": 40,
   "source": [
    "BBOX_DIM = 60\r\n",
    "OVERLAP = 3\r\n",
    "\r\n",
    "all_img_coords = []\r\n",
    "for segment in dc_road_segments:\r\n",
    "    seg_img_coords = collect_img_origins(segment, BBOX_DIM, OVERLAP)\r\n",
    "    all_img_coords.extend(seg_img_coords)\r\n",
    "all_img_coords = np.asarray(all_img_coords)"
   ],
   "outputs": [],
   "metadata": {}
  },
  {
   "cell_type": "code",
   "execution_count": 38,
   "source": [
    "def find_clusters_kd(img_coords, min_dist):\r\n",
    "    kd_tree = spatial.KDTree(img_coords)\r\n",
    "    clusters_raw = kd_tree.query_ball_point(img_coords, min_dist)\r\n",
    "    #Remove duplicates\r\n",
    "    clusters_set = {tuple(cluster) for cluster in clusters_raw}\r\n",
    "    return clusters_set"
   ],
   "outputs": [],
   "metadata": {}
  },
  {
   "cell_type": "code",
   "execution_count": 10,
   "source": [
    "def find_clusters(img_coords, min_dist):\r\n",
    "    #Find all clusters\r\n",
    "    #Ensure clusters are not duplicates in different orders\r\n",
    "    clusters = set()\r\n",
    "    for i, coord1 in enumerate(img_coords):\r\n",
    "        x1, y1 = coord1\r\n",
    "        cluster = [i]\r\n",
    "        for j, coord2 in enumerate(img_coords):\r\n",
    "            if i == j:\r\n",
    "                continue\r\n",
    "            x2, y2 = coord2\r\n",
    "            distance = math.sqrt((x2 - x1)**2 + (y2 - y1)**2)\r\n",
    "            if distance < min_dist:\r\n",
    "                cluster.append(j)\r\n",
    "                \r\n",
    "        #Ensure some clusters are not subsets of other clusters\r\n",
    "        if len(cluster) > 1:\r\n",
    "            cluster = tuple(sorted(cluster))\r\n",
    "            cluster_set = set(cluster)\r\n",
    "            subset = False\r\n",
    "            for prev_cluster in clusters:\r\n",
    "                if cluster_set.issubset(prev_cluster):\r\n",
    "                    subset = True\r\n",
    "                    break\r\n",
    "            if not subset:\r\n",
    "                clusters.add(cluster)\r\n",
    "    \r\n",
    "#     clusters_nosubsets = []\r\n",
    "#     for i, cluster1 in enumerate(clusters):\r\n",
    "#         subset = False\r\n",
    "#         for j, cluster2 in enumerate(clusters):\r\n",
    "#             if i == j:\r\n",
    "#                 continue\r\n",
    "#             if cluster1.issubset(cluster2):\r\n",
    "#                 subset = True\r\n",
    "#                 break\r\n",
    "\r\n",
    "#         if not subset:\r\n",
    "#             clusters_nosubsets.append(cluster1)\r\n",
    "\r\n",
    "    return clusters"
   ],
   "outputs": [],
   "metadata": {}
  },
  {
   "cell_type": "code",
   "execution_count": 9,
   "source": [
    "def merge_clusters(clusters, img_coords):\r\n",
    "    new_coords = []\r\n",
    "    clustered_pts = set()\r\n",
    "    for cluster in clusters:\r\n",
    "        mean_x = 0\r\n",
    "        mean_y = 0\r\n",
    "        for pt_idx in cluster:\r\n",
    "            x, y = img_coords[pt_idx]\r\n",
    "            mean_x += x\r\n",
    "            mean_y += y\r\n",
    "            clustered_pts.add(pt_idx)\r\n",
    "        mean_x /= len(cluster)\r\n",
    "        mean_y /= len(cluster)        \r\n",
    "        new_coords.append((mean_x, mean_y))\r\n",
    "    \r\n",
    "    coords_idxs = set(np.arange(0, len(img_coords), 1))\r\n",
    "    non_clusterd_pts = coords_idxs.difference(clustered_pts)\r\n",
    "    for pt_idx in non_clusterd_pts:\r\n",
    "        new_coords.append(img_coords[pt_idx])\r\n",
    "    return np.asarray(new_coords)"
   ],
   "outputs": [],
   "metadata": {}
  },
  {
   "cell_type": "code",
   "execution_count": 10,
   "source": [
    "def project_to_latlng(pt):\r\n",
    "    crs_4326 = CRS('epsg:4326')\r\n",
    "    crs_proj = CRS('epsg:26985')\r\n",
    "    transformer = Transformer.from_crs(crs_proj, crs_4326)\r\n",
    "    pt_proj = transformer.transform(pt[0], pt[1])\r\n",
    "    \r\n",
    "    return pt_proj"
   ],
   "outputs": [],
   "metadata": {}
  },
  {
   "cell_type": "code",
   "execution_count": 42,
   "source": [
    "coord_clusters = find_clusters_kd(all_img_coords, 20)\r\n",
    "merged_coords = merge_clusters(coord_clusters, all_img_coords)\r\n",
    "len(merged_coords)"
   ],
   "outputs": [
    {
     "output_type": "execute_result",
     "data": {
      "text/plain": [
       "36192"
      ]
     },
     "metadata": {},
     "execution_count": 42
    }
   ],
   "metadata": {}
  },
  {
   "cell_type": "code",
   "execution_count": 43,
   "source": [
    "coord_clusters2 = find_clusters_kd(merged_coords, 20)\r\n",
    "merged_coords2 = merge_clusters(coord_clusters2, merged_coords)\r\n",
    "len(merged_coords2)"
   ],
   "outputs": [
    {
     "output_type": "execute_result",
     "data": {
      "text/plain": [
       "36076"
      ]
     },
     "metadata": {},
     "execution_count": 43
    }
   ],
   "metadata": {}
  },
  {
   "cell_type": "code",
   "execution_count": 14,
   "source": [
    "#latlng_coords = [project_to_latlng(coord) for coord in merged_coords]"
   ],
   "outputs": [],
   "metadata": {}
  },
  {
   "cell_type": "code",
   "execution_count": 44,
   "source": [
    "coord_clusters1 = list(coord_clusters)\r\n",
    "coord_clusters2 = list(coord_clusters)\r\n",
    "\r\n",
    "for i, m in enumerate(coord_clusters1):\r\n",
    "    for j, n in enumerate(coord_clusters1):\r\n",
    "        if set(m).issubset(set(n)) and i != j:\r\n",
    "            coord_clusters2.remove(m)\r\n",
    "            break"
   ],
   "outputs": [],
   "metadata": {}
  },
  {
   "cell_type": "code",
   "execution_count": 13,
   "source": [
    "def convert_to_bbox(img_coord, dim):\r\n",
    "    r = dim / 2\r\n",
    "    xmin = img_coord[0] - r\r\n",
    "    xmax = img_coord[0] + r\r\n",
    "    ymin = img_coord[1] - r\r\n",
    "    ymax = img_coord[1] + r\r\n",
    "    \r\n",
    "    return (xmin, ymin, xmax, ymax)"
   ],
   "outputs": [],
   "metadata": {}
  },
  {
   "cell_type": "code",
   "execution_count": 44,
   "source": [
    "image_bboxes = [(convert_to_bbox(coord, BBOX_DIM), tuple(coord)) for coord in merged_coords]\r\n",
    "region_bbox = (399697, 135518, 401430, 136935)\r\n",
    "region_data = [coord for coord in image_bboxes if coord[0][0] > region_bbox[0] and coord[0][1] > region_bbox[1]\r\n",
    "                    and coord[0][2] < region_bbox[2] and coord[0][3] < region_bbox[3]]"
   ],
   "outputs": [],
   "metadata": {}
  },
  {
   "cell_type": "code",
   "execution_count": 45,
   "source": [
    "bboxes_in_region = [coord[0] for coord in region_data]\r\n",
    "center_coords_region = [coord[1] for coord in region_data]\r\n",
    "latlng_in_region = [project_to_latlng(coord) for coord in center_coords_region]"
   ],
   "outputs": [],
   "metadata": {}
  },
  {
   "cell_type": "code",
   "execution_count": 46,
   "source": [
    "df_region = pd.DataFrame(bboxes_in_region, columns=['xmin', 'ymin', 'xmax', 'ymax'])\r\n",
    "image_filenames = ['image_' + str(i) + '.png' for i in range(len(bboxes_in_region))]\r\n",
    "df_region['filename'] = image_filenames\r\n",
    "df_region['lat'] = [coord[0] for coord in latlng_in_region]\r\n",
    "df_region['lng'] = [coord[1] for coord in latlng_in_region]\r\n",
    "df_region['center_x'] = [coord[0] for coord in center_coords_region]\r\n",
    "df_region['center_y'] = [coord[1] for coord in center_coords_region]\r\n",
    "df_region['overlap'] = OVERLAP"
   ],
   "outputs": [],
   "metadata": {}
  },
  {
   "cell_type": "code",
   "execution_count": 48,
   "source": [
    "df_region.to_csv('399697_135518_401430_136935.csv', index=False)"
   ],
   "outputs": [],
   "metadata": {}
  },
  {
   "cell_type": "code",
   "execution_count": 58,
   "source": [
    "def cluster_high_dim_images(img_coords, img_dim, high_dim=4100):\r\n",
    "    r = high_dim / 2 - (img_dim / 2)\r\n",
    "    kd_tree = spatial.KDTree(img_coords)\r\n",
    "    clusters_raw = kd_tree.query_ball_point(img_coords, r)\r\n",
    "    clusters_set = {tuple(cluster) for cluster in clusters_raw}\r\n",
    "    return clusters_set"
   ],
   "outputs": [],
   "metadata": {}
  },
  {
   "cell_type": "code",
   "execution_count": 60,
   "source": [
    "def removeSublists(l):\r\n",
    "    for m in l:\r\n",
    "        for n in l:\r\n",
    "            if set(m).issubset(set(n)) and m != n:\r\n",
    "                l2.remove(m)\r\n",
    "                break"
   ],
   "outputs": [],
   "metadata": {}
  },
  {
   "cell_type": "code",
   "execution_count": 61,
   "source": [
    "high_dim_img_clusters = cluster_high_dim_images(merged_coords, 100)"
   ],
   "outputs": [],
   "metadata": {}
  },
  {
   "cell_type": "code",
   "execution_count": null,
   "source": [
    "high_dim_img_clusters_lst1 = [cluster for cluster in high_dim_img_clusters]\r\n",
    "high_dim_img_clusters_lst2 = [cluster for cluster in high_dim_img_clusters]\r\n",
    "\r\n",
    "for m in high_dim_img_clusters_lst1:\r\n",
    "        for n in high_dim_img_clusters_lst1:\r\n",
    "            if set(m).issubset(set(n)) and m != n:\r\n",
    "                high_dim_img_clusters_lst2.remove(m)\r\n",
    "                break"
   ],
   "outputs": [],
   "metadata": {}
  },
  {
   "cell_type": "code",
   "execution_count": null,
   "source": [
    "merged = removeSublist(high_dim_img_clusters)"
   ],
   "outputs": [],
   "metadata": {}
  }
 ],
 "metadata": {
  "kernelspec": {
   "name": "python3",
   "display_name": "Python 3.9.6 64-bit"
  },
  "language_info": {
   "codemirror_mode": {
    "name": "ipython",
    "version": 3
   },
   "file_extension": ".py",
   "mimetype": "text/x-python",
   "name": "python",
   "nbconvert_exporter": "python",
   "pygments_lexer": "ipython3",
   "version": "3.9.6"
  },
  "interpreter": {
   "hash": "63fd5069d213b44bf678585dea6b12cceca9941eaf7f819626cde1f2670de90d"
  }
 },
 "nbformat": 4,
 "nbformat_minor": 1
}