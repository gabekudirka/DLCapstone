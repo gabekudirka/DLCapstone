{
 "cells": [
  {
   "cell_type": "code",
   "execution_count": 1,
   "metadata": {},
   "outputs": [],
   "source": [
    "import pandas as pd\n",
    "import numpy as np\n",
    "import torch\n",
    "from torchvision.io import read_image\n",
    "from scipy import spatial"
   ]
  },
  {
   "cell_type": "code",
   "execution_count": 2,
   "metadata": {},
   "outputs": [],
   "source": [
    "model = torch.load('crosswalk_MRCNN1_crosswalk_entire.pth')\n",
    "model.eval()\n",
    "device = \"cuda:0\" if torch.cuda.is_available() else \"cpu\""
   ]
  },
  {
   "cell_type": "code",
   "execution_count": 3,
   "metadata": {},
   "outputs": [],
   "source": [
    "df_all = pd.read_csv('./data/img_metadata/399697_135518_401430_136935.csv')\n",
    "dims = 60\n",
    "overlap = 6"
   ]
  },
  {
   "cell_type": "code",
   "execution_count": 44,
   "metadata": {},
   "outputs": [],
   "source": [
    "class Crosswalk():\n",
    "    def __init__(self, box, score, img_id, img_bbox, img_dims):\n",
    "        self.score = score\n",
    "        self.img_id = img_id\n",
    "#         self.boxes = [[(box[0], box[1]), (box[0] + box[2], box[1] + box[3])] for box in boxes]\n",
    "#         self.boxes_proj = [[point_to_coord(box[0], img_dims, bbox), point_to_coord(box[1], img_dims, bbox)] for box in self.boxes]\n",
    "        self.box = [(box[0], box[1]), (box[0] + box[2], box[1] + box[3])]\n",
    "        self.box_coords = [point_to_coord(self.box[0], img_dims, img_bbox), point_to_coord(self.box[1], img_dims, img_bbox)]\n",
    "        self.coords = get_center_coord(self.box_coords)\n",
    "        \n",
    "def get_center_coord(bbox):\n",
    "    xmin, ymax = bbox[0]\n",
    "    xmax, ymin = bbox[1]\n",
    "    return ((xmin + xmax) / 2, (ymin + ymax) / 2)\n",
    "            \n",
    "#Map a point in an image from the predicted bounding box to an actual coordinate\n",
    "def point_to_coord(pt, img_dims, bbox):\n",
    "    x, y = pt\n",
    "    H, W = img_dims\n",
    "    xmin, ymin, xmax, ymax = bbox\n",
    "    x_len = xmax - xmin\n",
    "    y_len = ymax - ymin\n",
    "    x_ratio = x_len / W\n",
    "    y_ratio = y_len / H\n",
    "    x = (x * x_ratio) + xmin\n",
    "    y = ymax - (y * y_ratio)\n",
    "    \n",
    "    return (x, y)\n",
    "        \n",
    "class CrosswalkImage():\n",
    "    def __init__(self, idx, anns, row, img_dims):\n",
    "        self.filename = row['filename']\n",
    "        self.id = idx\n",
    "        self.img_dims = (img_dims[1], img_dims[2])\n",
    "        self.bbox = (row['xmin'], row['ymin'], row['xmax'], row['ymax'])\n",
    "        self.img_coords = (row['lat'], row['lng'])\n",
    "        \n",
    "        self.crosswalks = []\n",
    "        for box, score in zip(anns['boxes'], anns['scores']):\n",
    "            self.crosswalks.append(Crosswalk(box.cpu().numpy(), score.cpu().numpy(), idx, self.bbox, self.img_dims))"
   ]
  },
  {
   "cell_type": "code",
   "execution_count": 6,
   "metadata": {},
   "outputs": [],
   "source": [
    "#Run object detection on collected images\n",
    "base_path = './data/aerial_images/399697_135518_401430_136935/'\n",
    "\n",
    "img_tensors = [read_image(base_path + filename).to(device=device, dtype=torch.float32) / 255 for filename in df_all['filename']]\n",
    "with torch.no_grad():\n",
    "    anns = [model([img_tensor])[0] for img_tensor in img_tensors]"
   ]
  },
  {
   "cell_type": "code",
   "execution_count": 7,
   "metadata": {},
   "outputs": [],
   "source": [
    "df_all['crosswalk_detected'] = 0\n",
    "df_all['crosswalk_obj_idx'] = ''\n",
    "#Process each detected crosswalk, converting predicted bounding boxes to real coordinates\n",
    "crosswalk_objs = []\n",
    "for i, ann in enumerate(anns):\n",
    "    if len(ann['labels']) > 0:\n",
    "        df_all['crosswalk_detected'].iloc[i] = 1\n",
    "        df_all['crosswalk_obj_idx'].iloc[i] = len(crosswalk_objs)\n",
    "        crosswalk_objs.append(CrosswalkImage(i, ann, df_all.iloc[i], img_tensors[0].shape))"
   ]
  },
  {
   "cell_type": "code",
   "execution_count": 46,
   "metadata": {},
   "outputs": [
    {
     "data": {
      "text/plain": [
       "[(400124.56904279353, 136155.1230579757),\n",
       " (400159.6101693172, 136101.49185985557)]"
      ]
     },
     "execution_count": 46,
     "metadata": {},
     "output_type": "execute_result"
    }
   ],
   "source": [
    "crosswalk_objs[68].crosswalks[0].box_coords"
   ]
  },
  {
   "cell_type": "code",
   "execution_count": 47,
   "metadata": {},
   "outputs": [
    {
     "data": {
      "text/plain": [
       "[(152.50598, 331.8219), (414.1464, 689.3632)]"
      ]
     },
     "execution_count": 47,
     "metadata": {},
     "output_type": "execute_result"
    }
   ],
   "source": [
    "crosswalk_objs[68].crosswalks[0].box"
   ]
  },
  {
   "cell_type": "code",
   "execution_count": 27,
   "metadata": {},
   "outputs": [
    {
     "data": {
      "text/plain": [
       "xmin                  400104.144135\n",
       "ymin                  136144.896343\n",
       "xmax                  400164.144135\n",
       "ymax                  136204.896343\n",
       "filename              image_100.png\n",
       "lat                        38.89342\n",
       "lng                      -76.998454\n",
       "crosswalk_detected                1\n",
       "crosswalk_obj_idx                68\n",
       "Name: 100, dtype: object"
      ]
     },
     "execution_count": 27,
     "metadata": {},
     "output_type": "execute_result"
    }
   ],
   "source": [
    "df_all.iloc[100]"
   ]
  },
  {
   "cell_type": "code",
   "execution_count": 49,
   "metadata": {},
   "outputs": [],
   "source": [
    "def do_overlap(box1, box2):\n",
    "    l1 = box1[0]\n",
    "    r1 = box1[1]\n",
    "    l2 = box2[0]\n",
    "    r2 = box2[1]\n",
    "    \n",
    "    if l1[0] == r1[0] or l1[1] == r1[1] or r2[0] == l2[0] or l2[1] == r2[1]:\n",
    "        return False\n",
    "     \n",
    "    # If one rectangle is on left side of other\n",
    "    if l1[0] > r2[0] or l2[0] > r1[0]:\n",
    "        return False\n",
    " \n",
    "    # If one rectangle is above other\n",
    "    if r1[1] > l2[1] or r2[1] > l1[1]:\n",
    "        return False\n",
    " \n",
    "    return True\n",
    "\n",
    "def bbox_area(box):\n",
    "    W = box[1][0] - box[0][0]\n",
    "    H = box[0][1] - box[1][1]    \n",
    "    return H * W"
   ]
  },
  {
   "cell_type": "code",
   "execution_count": 32,
   "metadata": {},
   "outputs": [],
   "source": [
    "df_crosswalks = df_all[df_all['crosswalk_detected'] == 1]"
   ]
  },
  {
   "cell_type": "code",
   "execution_count": 33,
   "metadata": {},
   "outputs": [],
   "source": [
    "img_coords = list(zip((df_crosswalks['xmax'] + df_crosswalks['xmin']) / 2, (df_crosswalks['ymax'] + df_crosswalks['ymin']) / 2))"
   ]
  },
  {
   "cell_type": "code",
   "execution_count": 35,
   "metadata": {},
   "outputs": [],
   "source": [
    "kd_tree = spatial.KDTree(img_coords)\n",
    "clusters_raw = kd_tree.query_ball_point(img_coords, dims)\n",
    "clusters_set = {tuple(cluster) for cluster in clusters_raw}"
   ]
  },
  {
   "cell_type": "code",
   "execution_count": 56,
   "metadata": {},
   "outputs": [],
   "source": [
    "all_crosswalks_overlap = []\n",
    "for crosswalk_obj in crosswalk_objs:\n",
    "    all_crosswalks_overlap.extend(crosswalk_obj.crosswalks)"
   ]
  },
  {
   "cell_type": "code",
   "execution_count": 57,
   "metadata": {},
   "outputs": [
    {
     "data": {
      "text/plain": [
       "1075"
      ]
     },
     "execution_count": 57,
     "metadata": {},
     "output_type": "execute_result"
    }
   ],
   "source": [
    "len(all_crosswalks_overlap)"
   ]
  },
  {
   "cell_type": "code",
   "execution_count": 58,
   "metadata": {},
   "outputs": [],
   "source": [
    "#Remove detected crosswalks that overlap across images\n",
    "#If the bounding box of two crosswalks on the real world map overlap, keep the box with the larger area\n",
    "for cluster in clusters_set:\n",
    "    if len(cluster) == 0:\n",
    "        continue\n",
    "    target = crosswalk_objs[cluster[0]]\n",
    "    target_crosswalks = [crosswalk for crosswalk in target.crosswalks]\n",
    "    for i in range(1, len(cluster)):\n",
    "        comp = crosswalk_objs[cluster[i]]\n",
    "        comp_crosswalks = [crosswalk for crosswalk in comp.crosswalks]\n",
    "        for target_crosswalk in target_crosswalks:\n",
    "            for comp_crosswalk in comp_crosswalks:\n",
    "                if do_overlap(target_crosswalk.box_coords, comp_crosswalk.box_coords):\n",
    "                    if bbox_area(target_crosswalk.box_coords) > bbox_area(comp_crosswalk.box_coords):\n",
    "                        if comp_crosswalk in comp.crosswalks:\n",
    "                            comp.crosswalks.remove(comp_crosswalk)\n",
    "                    else:\n",
    "                        if target_crosswalk in target.crosswalks:\n",
    "                            target.crosswalks.remove(target_crosswalk)\n"
   ]
  },
  {
   "cell_type": "code",
   "execution_count": 60,
   "metadata": {},
   "outputs": [],
   "source": [
    "#Accumulate all remaining crosswalk objects\n",
    "all_crosswalks = []\n",
    "for crosswalk_obj in crosswalk_objs:\n",
    "    all_crosswalks.extend(crosswalk_obj.crosswalks)"
   ]
  },
  {
   "cell_type": "code",
   "execution_count": 61,
   "metadata": {},
   "outputs": [
    {
     "data": {
      "text/plain": [
       "618"
      ]
     },
     "execution_count": 61,
     "metadata": {},
     "output_type": "execute_result"
    }
   ],
   "source": [
    "len(all_crosswalks)"
   ]
  }
 ],
 "metadata": {
  "kernelspec": {
   "display_name": "Python 3 (ipykernel)",
   "language": "python",
   "name": "python3"
  },
  "language_info": {
   "codemirror_mode": {
    "name": "ipython",
    "version": 3
   },
   "file_extension": ".py",
   "mimetype": "text/x-python",
   "name": "python",
   "nbconvert_exporter": "python",
   "pygments_lexer": "ipython3",
   "version": "3.10.6"
  }
 },
 "nbformat": 4,
 "nbformat_minor": 1
}
